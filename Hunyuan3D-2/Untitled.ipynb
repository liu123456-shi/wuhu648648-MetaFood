{
 "cells": [
  {
   "cell_type": "code",
   "execution_count": null,
   "id": "ceebe38b-0dfd-451d-a9c0-c0b619b0fe1f",
   "metadata": {},
   "outputs": [],
   "source": [
    "from PIL import Image\n",
    "\n",
    "from hy3dgen.rembg import BackgroundRemover\n",
    "from hy3dgen.shapegen import Hunyuan3DDiTFlowMatchingPipeline\n",
    "from hy3dgen.texgen import Hunyuan3DPaintPipeline\n",
    "\n",
    "model_path = 'tencent/Hunyuan3D-2'\n",
    "pipeline_shapegen = Hunyuan3DDiTFlowMatchingPipeline.from_pretrained(model_path)\n",
    "pipeline_texgen = Hunyuan3DPaintPipeline.from_pretrained(model_path)\n",
    "\n",
    "image_path = 'food/1/bagel_cropped.jpg'\n",
    "image = Image.open(image_path).convert(\"RGBA\")\n",
    "if image.mode == 'RGB':\n",
    "    rembg = BackgroundRemover()\n",
    "    image = rembg(image)\n",
    "\n",
    "mesh = pipeline_shapegen(image=image)[0]\n",
    "mesh = pipeline_texgen(mesh, image=image)\n",
    "mesh.export('food/1/bagel.obj')"
   ]
  },
  {
   "cell_type": "code",
   "execution_count": 4,
   "id": "d5705ef8-7e3a-4403-a162-2237fe54b61c",
   "metadata": {},
   "outputs": [
    {
     "name": "stdout",
     "output_type": "stream",
     "text": [
      "|=grep HF_HOME\n"
     ]
    }
   ],
   "source": [
    "!env | grep HF_HOME"
   ]
  },
  {
   "cell_type": "code",
   "execution_count": null,
   "id": "3c929bca-f9a5-4d7f-a750-b4fb05fccb38",
   "metadata": {},
   "outputs": [],
   "source": []
  }
 ],
 "metadata": {
  "kernelspec": {
   "display_name": "Python 3 (ipykernel)",
   "language": "python",
   "name": "python3"
  },
  "language_info": {
   "codemirror_mode": {
    "name": "ipython",
    "version": 3
   },
   "file_extension": ".py",
   "mimetype": "text/x-python",
   "name": "python",
   "nbconvert_exporter": "python",
   "pygments_lexer": "ipython3",
   "version": "3.12.3"
  }
 },
 "nbformat": 4,
 "nbformat_minor": 5
}
